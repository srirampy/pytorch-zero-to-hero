{
  "cells": [
    {
      "cell_type": "markdown",
      "metadata": {
        "colab_type": "text",
        "id": "KPqFTlOiiiKv"
      },
      "source": [
        "# Outline\n",
        "* PyTorch\n",
        "* What are tensors\n",
        "* Initialising, slicing, reshaping tensors\n",
        "* Numpy and PyTorch interfacing\n",
        "* GPU support for PyTorch + Enabling GPUs on Google Colab\n",
        "* Speed comparisons, Numpy -- PyTorch -- PyTorch on GPU\n",
        "* Autodiff concepts and application\n",
        "* Writing a basic learning loop using autograd\n",
        "* Conclusion"
      ]
    },
    {
      "cell_type": "code",
      "execution_count": 0,
      "metadata": {
        "colab": {},
        "colab_type": "code",
        "id": "j4wIFDnRakTz"
      },
      "outputs": [],
      "source": [
        "#import libraries\n",
        "import torch\n",
        "import numpy as np\n",
        "import matplotlib.pyplot as plt"
      ]
    },
    {
      "cell_type": "code",
      "execution_count": 69,
      "metadata": {
        "colab": {
          "base_uri": "https://localhost:8080/",
          "height": 34
        },
        "colab_type": "code",
        "id": "8oqVVZtj3DxU",
        "outputId": "00bd53c3-bd49-4019-a3ac-f62d8b36991f"
      },
      "outputs": [
        {
          "data": {
            "text/plain": [
              "'1.1.0'"
            ]
          },
          "execution_count": 69,
          "metadata": {
            "tags": []
          },
          "output_type": "execute_result"
        }
      ],
      "source": [
        "torch.__version__"
      ]
    },
    {
      "cell_type": "markdown",
      "metadata": {
        "colab_type": "text",
        "id": "WJyLCI8PcPZq"
      },
      "source": [
        "# Initialise tensors"
      ]
    },
    {
      "cell_type": "code",
      "execution_count": 70,
      "metadata": {
        "colab": {
          "base_uri": "https://localhost:8080/",
          "height": 70
        },
        "colab_type": "code",
        "id": "svmwRdbhZIRi",
        "outputId": "89ec4d28-15f8-4e98-ba58-9a97dc3add7c"
      },
      "outputs": [
        {
          "name": "stdout",
          "output_type": "stream",
          "text": [
            "tensor([[1., 1.],\n",
            "        [1., 1.],\n",
            "        [1., 1.]])\n"
          ]
        }
      ],
      "source": [
        "x = torch.ones(3,2)\n",
        "print(x)"
      ]
    },
    {
      "cell_type": "code",
      "execution_count": 71,
      "metadata": {
        "colab": {
          "base_uri": "https://localhost:8080/",
          "height": 228
        },
        "colab_type": "code",
        "id": "NV2jveDIayX-",
        "outputId": "8299cff6-689c-4b22-e581-ef0cf456214d"
      },
      "outputs": [
        {
          "name": "stdout",
          "output_type": "stream",
          "text": [
            "tensor([[1., 1.],\n",
            "        [1., 1.],\n",
            "        [1., 1.]])\n",
            "tensor([[0., 0.],\n",
            "        [0., 0.],\n",
            "        [0., 0.]])\n",
            "tensor([[0.0190, 0.7368],\n",
            "        [0.6252, 0.7905],\n",
            "        [0.4517, 0.4048]])\n",
            "tensor([[ 0.0547, -1.9015, -1.1462],\n",
            "        [ 0.3982, -1.2941,  0.8751],\n",
            "        [ 0.8588, -0.8963,  1.3100]])\n"
          ]
        }
      ],
      "source": [
        "x = torch.ones(3, 2)\n",
        "print(x)\n",
        "x = torch.zeros(3, 2)\n",
        "print(x)\n",
        "x = torch.rand(3, 2)\n",
        "print(x)\n",
        "x = torch.randn(3,3)\n",
        "print(x)"
      ]
    },
    {
      "cell_type": "code",
      "execution_count": 72,
      "metadata": {
        "colab": {
          "base_uri": "https://localhost:8080/",
          "height": 70
        },
        "colab_type": "code",
        "id": "nGtEclyK6ZWT",
        "outputId": "8d98d4bf-6501-4075-dd8b-0f0acbdafa89"
      },
      "outputs": [
        {
          "name": "stdout",
          "output_type": "stream",
          "text": [
            "tensor([[3.0467e-37, 0.0000e+00],\n",
            "        [4.4842e-44, 0.0000e+00],\n",
            "        [       nan, 0.0000e+00]])\n"
          ]
        }
      ],
      "source": [
        "x = torch.empty(3, 2)\n",
        "print(x)"
      ]
    },
    {
      "cell_type": "code",
      "execution_count": 73,
      "metadata": {
        "colab": {
          "base_uri": "https://localhost:8080/",
          "height": 122
        },
        "colab_type": "code",
        "id": "BuAQVNaPFN1P",
        "outputId": "d309b71c-5c42-416f-9a9d-2773799c8f75"
      },
      "outputs": [
        {
          "name": "stdout",
          "output_type": "stream",
          "text": [
            "tensor([[-8.4230e-21,  0.0000e+00],\n",
            "        [ 4.4842e-44,  0.0000e+00],\n",
            "        [        nan,  0.0000e+00]])\n",
            "tensor([[0., 0.],\n",
            "        [0., 0.],\n",
            "        [0., 0.]])\n"
          ]
        }
      ],
      "source": [
        "x = torch.empty(3, 2)\n",
        "print(x)\n",
        "y = torch.zeros_like(x)\n",
        "print(y)"
      ]
    },
    {
      "cell_type": "code",
      "execution_count": 74,
      "metadata": {
        "colab": {
          "base_uri": "https://localhost:8080/",
          "height": 34
        },
        "colab_type": "code",
        "id": "ntr9_BJD7VfC",
        "outputId": "4c72752a-23e1-40a0-b105-4364d920963e"
      },
      "outputs": [
        {
          "name": "stdout",
          "output_type": "stream",
          "text": [
            "tensor([0.0000, 0.2500, 0.5000, 0.7500, 1.0000])\n"
          ]
        }
      ],
      "source": [
        "x = torch.linspace(0 , 1, steps = 5)\n",
        "print(x)"
      ]
    },
    {
      "cell_type": "code",
      "execution_count": 75,
      "metadata": {
        "colab": {
          "base_uri": "https://localhost:8080/",
          "height": 70
        },
        "colab_type": "code",
        "id": "l_QspfvYEtuB",
        "outputId": "e5eb01f5-d368-4470-ed88-afea9a828e64"
      },
      "outputs": [
        {
          "name": "stdout",
          "output_type": "stream",
          "text": [
            "tensor([[1, 2],\n",
            "        [3, 4],\n",
            "        [5, 6]])\n"
          ]
        }
      ],
      "source": [
        "x = torch.tensor([[1, 2], \n",
        "                 [3, 4], \n",
        "                 [5, 6]])\n",
        "print(x)"
      ]
    },
    {
      "cell_type": "markdown",
      "metadata": {
        "colab_type": "text",
        "id": "wKub-KJLcSDJ"
      },
      "source": [
        "# Slicing tensors"
      ]
    },
    {
      "cell_type": "code",
      "execution_count": 76,
      "metadata": {
        "colab": {
          "base_uri": "https://localhost:8080/",
          "height": 70
        },
        "colab_type": "code",
        "id": "98J4IUYG7gyW",
        "outputId": "5223ed31-cc41-472a-9bf2-2cf04ebbe831"
      },
      "outputs": [
        {
          "name": "stdout",
          "output_type": "stream",
          "text": [
            "torch.Size([3, 2])\n",
            "tensor([2, 4, 6])\n",
            "tensor([1, 2])\n"
          ]
        }
      ],
      "source": [
        "print(x.size())\n",
        "print(x[:, 1])\n",
        "print(x[0, :])"
      ]
    },
    {
      "cell_type": "code",
      "execution_count": 77,
      "metadata": {
        "colab": {
          "base_uri": "https://localhost:8080/",
          "height": 52
        },
        "colab_type": "code",
        "id": "AGWkj2utcrz9",
        "outputId": "c25bd085-2700-40bb-e8fa-1f183e133971"
      },
      "outputs": [
        {
          "name": "stdout",
          "output_type": "stream",
          "text": [
            "tensor(4)\n",
            "4\n"
          ]
        }
      ],
      "source": [
        "y = x[1, 1]\n",
        "print(y)\n",
        "print(y.item())"
      ]
    },
    {
      "cell_type": "markdown",
      "metadata": {
        "colab_type": "text",
        "id": "6YvWGrX0cUpf"
      },
      "source": [
        "# Reshaping tensors"
      ]
    },
    {
      "cell_type": "code",
      "execution_count": 78,
      "metadata": {
        "colab": {
          "base_uri": "https://localhost:8080/",
          "height": 105
        },
        "colab_type": "code",
        "id": "ceglgT9a7zQW",
        "outputId": "fb8c8576-3ad2-4b20-ca6e-6f663c1ee912"
      },
      "outputs": [
        {
          "name": "stdout",
          "output_type": "stream",
          "text": [
            "tensor([[1, 2],\n",
            "        [3, 4],\n",
            "        [5, 6]])\n",
            "tensor([[1, 2, 3],\n",
            "        [4, 5, 6]])\n"
          ]
        }
      ],
      "source": [
        "print(x)\n",
        "y = x.view(2, 3)\n",
        "print(y)"
      ]
    },
    {
      "cell_type": "code",
      "execution_count": 79,
      "metadata": {
        "colab": {
          "base_uri": "https://localhost:8080/",
          "height": 122
        },
        "colab_type": "code",
        "id": "1EbIwPvBF4Lg",
        "outputId": "f9803f48-ee28-4104-abf0-13195c91b87a"
      },
      "outputs": [
        {
          "name": "stdout",
          "output_type": "stream",
          "text": [
            "tensor([[1],\n",
            "        [2],\n",
            "        [3],\n",
            "        [4],\n",
            "        [5],\n",
            "        [6]])\n"
          ]
        }
      ],
      "source": [
        "y = x.view(6,-1) \n",
        "print(y)"
      ]
    },
    {
      "cell_type": "markdown",
      "metadata": {
        "colab_type": "text",
        "id": "2XxOq0ObdXEC"
      },
      "source": [
        "# Simple Tensor Operations"
      ]
    },
    {
      "cell_type": "code",
      "execution_count": 80,
      "metadata": {
        "colab": {
          "base_uri": "https://localhost:8080/",
          "height": 175
        },
        "colab_type": "code",
        "id": "Rv4jjqBVdIB2",
        "outputId": "3acf2c83-6944-45b4-96fc-f3bbb128e273"
      },
      "outputs": [
        {
          "name": "stdout",
          "output_type": "stream",
          "text": [
            "tensor([[2., 2.],\n",
            "        [2., 2.],\n",
            "        [2., 2.]])\n",
            "tensor([[0., 0.],\n",
            "        [0., 0.],\n",
            "        [0., 0.]])\n",
            "tensor([[1., 1.],\n",
            "        [1., 1.],\n",
            "        [1., 1.]])\n"
          ]
        }
      ],
      "source": [
        "x = torch.ones([3, 2])\n",
        "y = torch.ones([3, 2])\n",
        "z = x + y\n",
        "print(z)\n",
        "z = x - y\n",
        "print(z)\n",
        "z = x * y\n",
        "print(z)"
      ]
    },
    {
      "cell_type": "code",
      "execution_count": 81,
      "metadata": {
        "colab": {
          "base_uri": "https://localhost:8080/",
          "height": 70
        },
        "colab_type": "code",
        "id": "fVdbWy6dbuHX",
        "outputId": "9f41f069-5a36-4d24-8b2f-2db94c49bf5f"
      },
      "outputs": [
        {
          "data": {
            "text/plain": [
              "tensor([[0., 0.],\n",
              "        [0., 0.],\n",
              "        [0., 0.]])"
            ]
          },
          "execution_count": 81,
          "metadata": {
            "tags": []
          },
          "output_type": "execute_result"
        }
      ],
      "source": [
        "torch.sub(x,y)"
      ]
    },
    {
      "cell_type": "code",
      "execution_count": 82,
      "metadata": {
        "colab": {
          "base_uri": "https://localhost:8080/",
          "height": 122
        },
        "colab_type": "code",
        "id": "dVHnXB78dl8s",
        "outputId": "74cd0818-75ba-4880-ad7b-acb92b71487a"
      },
      "outputs": [
        {
          "name": "stdout",
          "output_type": "stream",
          "text": [
            "tensor([[2., 2.],\n",
            "        [2., 2.],\n",
            "        [2., 2.]])\n",
            "tensor([[1., 1.],\n",
            "        [1., 1.],\n",
            "        [1., 1.]])\n"
          ]
        }
      ],
      "source": [
        "z = y.add(x)\n",
        "print(z)\n",
        "print(y)"
      ]
    },
    {
      "cell_type": "code",
      "execution_count": 83,
      "metadata": {
        "colab": {
          "base_uri": "https://localhost:8080/",
          "height": 122
        },
        "colab_type": "code",
        "id": "LewBBuz_eL1m",
        "outputId": "6b4787fe-d4dd-4808-bd5c-1082790aa3e5"
      },
      "outputs": [
        {
          "name": "stdout",
          "output_type": "stream",
          "text": [
            "tensor([[2., 2.],\n",
            "        [2., 2.],\n",
            "        [2., 2.]])\n",
            "tensor([[2., 2.],\n",
            "        [2., 2.],\n",
            "        [2., 2.]])\n"
          ]
        }
      ],
      "source": [
        "z = y.add_(x)\n",
        "print(z)\n",
        "print(y)"
      ]
    },
    {
      "cell_type": "markdown",
      "metadata": {
        "colab_type": "text",
        "id": "PDuBSdzTc2Bq"
      },
      "source": [
        "# Numpy <> PyTorch"
      ]
    },
    {
      "cell_type": "code",
      "execution_count": 84,
      "metadata": {
        "colab": {
          "base_uri": "https://localhost:8080/",
          "height": 87
        },
        "colab_type": "code",
        "id": "Ui8dAFvu8vI_",
        "outputId": "f4950a93-2134-45b4-93c9-6bef2d90a22f"
      },
      "outputs": [
        {
          "name": "stdout",
          "output_type": "stream",
          "text": [
            "<class 'torch.Tensor'> <class 'numpy.ndarray'>\n",
            "[[1. 1.]\n",
            " [1. 1.]\n",
            " [1. 1.]]\n"
          ]
        }
      ],
      "source": [
        "x_np = x.numpy()\n",
        "print(type(x), type(x_np))\n",
        "print(x_np)"
      ]
    },
    {
      "cell_type": "code",
      "execution_count": 85,
      "metadata": {
        "colab": {
          "base_uri": "https://localhost:8080/",
          "height": 70
        },
        "colab_type": "code",
        "id": "tLhS3Hrmc-M2",
        "outputId": "00b41916-08f0-4f9c-bd90-260316c1870e"
      },
      "outputs": [
        {
          "name": "stdout",
          "output_type": "stream",
          "text": [
            "[ 0.84776428  0.77146184 -0.83965444  0.13617828 -0.34339054]\n",
            "<class 'numpy.ndarray'> <class 'torch.Tensor'>\n",
            "tensor([ 0.8478,  0.7715, -0.8397,  0.1362, -0.3434], dtype=torch.float64)\n"
          ]
        }
      ],
      "source": [
        "a = np.random.randn(5)\n",
        "print(a)\n",
        "a_pt = torch.from_numpy(a)\n",
        "print(type(a), type(a_pt))\n",
        "print(a_pt)"
      ]
    },
    {
      "cell_type": "code",
      "execution_count": 86,
      "metadata": {
        "colab": {
          "base_uri": "https://localhost:8080/",
          "height": 52
        },
        "colab_type": "code",
        "id": "kwZhRYVtdp-X",
        "outputId": "f6a1a34d-39c8-4a68-8400-d6046601a9a2"
      },
      "outputs": [
        {
          "name": "stdout",
          "output_type": "stream",
          "text": [
            "[1.84776428 1.77146184 0.16034556 1.13617828 0.65660946]\n",
            "tensor([1.8478, 1.7715, 0.1603, 1.1362, 0.6566], dtype=torch.float64)\n"
          ]
        }
      ],
      "source": [
        "np.add(a, 1, out=a)\n",
        "print(a)\n",
        "print(a_pt) "
      ]
    },
    {
      "cell_type": "code",
      "execution_count": 87,
      "metadata": {
        "colab": {
          "base_uri": "https://localhost:8080/",
          "height": 52
        },
        "colab_type": "code",
        "id": "6z-Mhf2hewcU",
        "outputId": "d640e1a5-5d3d-44ec-a554-c2a41ce4eabe"
      },
      "outputs": [
        {
          "name": "stdout",
          "output_type": "stream",
          "text": [
            "CPU times: user 170 ms, sys: 105 ms, total: 275 ms\n",
            "Wall time: 200 ms\n"
          ]
        }
      ],
      "source": [
        "%%time\n",
        "for i in range(100):\n",
        "    a = np.random.randn(100,100)\n",
        "    b = np.random.randn(100,100)\n",
        "    c = np.matmul(a, b)"
      ]
    },
    {
      "cell_type": "code",
      "execution_count": 88,
      "metadata": {
        "colab": {
          "base_uri": "https://localhost:8080/",
          "height": 52
        },
        "colab_type": "code",
        "id": "aFzIX2qge3x9",
        "outputId": "5ac6c27d-5c29-4446-efce-54bf51b94086"
      },
      "outputs": [
        {
          "name": "stdout",
          "output_type": "stream",
          "text": [
            "CPU times: user 60.5 ms, sys: 39 ms, total: 99.6 ms\n",
            "Wall time: 60.9 ms\n"
          ]
        }
      ],
      "source": [
        "%%time\n",
        "for i in range(100):\n",
        "    a = torch.randn([100, 100])\n",
        "    b = torch.randn([100, 100])\n",
        "    c = torch.matmul(a, b)"
      ]
    },
    {
      "cell_type": "code",
      "execution_count": 89,
      "metadata": {
        "colab": {
          "base_uri": "https://localhost:8080/",
          "height": 52
        },
        "colab_type": "code",
        "id": "Pdat0Hnm6hGA",
        "outputId": "a2c85f54-937d-4d49-964f-4b2ccdf7ff44"
      },
      "outputs": [
        {
          "name": "stdout",
          "output_type": "stream",
          "text": [
            "CPU times: user 1min 32s, sys: 160 ms, total: 1min 32s\n",
            "Wall time: 1min 32s\n"
          ]
        }
      ],
      "source": [
        "%%time\n",
        "for i in range(10):\n",
        "    a = np.random.randn(10000,10000)\n",
        "    b = np.random.randn(10000,10000)\n",
        "    c = a + b"
      ]
    },
    {
      "cell_type": "code",
      "execution_count": 90,
      "metadata": {
        "colab": {
          "base_uri": "https://localhost:8080/",
          "height": 52
        },
        "colab_type": "code",
        "id": "XlRx5OKl6kEq",
        "outputId": "248cc6a2-d1ae-4f21-fbc8-990c9c38660b"
      },
      "outputs": [
        {
          "name": "stdout",
          "output_type": "stream",
          "text": [
            "CPU times: user 24.9 s, sys: 100 ms, total: 25 s\n",
            "Wall time: 25 s\n"
          ]
        }
      ],
      "source": [
        "%%time\n",
        "for i in range(10):\n",
        "    a = torch.randn([10000, 10000])\n",
        "    b = torch.randn([10000, 10000])\n",
        "    c = a + b"
      ]
    },
    {
      "cell_type": "markdown",
      "metadata": {
        "colab_type": "text",
        "id": "de5YwtfUgMWO"
      },
      "source": [
        "# CUDA support"
      ]
    },
    {
      "cell_type": "code",
      "execution_count": 91,
      "metadata": {
        "colab": {
          "base_uri": "https://localhost:8080/",
          "height": 34
        },
        "colab_type": "code",
        "id": "-nI4nYcWgY1B",
        "outputId": "79b036f9-c852-4f9d-aec5-a285adcdcb7e"
      },
      "outputs": [
        {
          "name": "stdout",
          "output_type": "stream",
          "text": [
            "1\n"
          ]
        }
      ],
      "source": [
        "print(torch.cuda.device_count())"
      ]
    },
    {
      "cell_type": "code",
      "execution_count": 92,
      "metadata": {
        "colab": {
          "base_uri": "https://localhost:8080/",
          "height": 52
        },
        "colab_type": "code",
        "id": "_3E-PMC1gfKU",
        "outputId": "f05c05a4-db83-45cf-f694-2286e7eb917b"
      },
      "outputs": [
        {
          "name": "stdout",
          "output_type": "stream",
          "text": [
            "<torch.cuda.device object at 0x7fd9439ca208>\n",
            "Tesla K80\n"
          ]
        }
      ],
      "source": [
        "print(torch.cuda.device(0))\n",
        "print(torch.cuda.get_device_name(0))"
      ]
    },
    {
      "cell_type": "code",
      "execution_count": 0,
      "metadata": {
        "colab": {},
        "colab_type": "code",
        "id": "_eZYxVpMgor4"
      },
      "outputs": [],
      "source": [
        "#assign to a variable\n",
        "cuda0 = torch.device('cuda:0')"
      ]
    },
    {
      "cell_type": "code",
      "execution_count": 94,
      "metadata": {
        "colab": {
          "base_uri": "https://localhost:8080/",
          "height": 70
        },
        "colab_type": "code",
        "id": "j1r7y57x9JZU",
        "outputId": "7f6b07ab-f4cc-4fe4-ed2b-475457ea5e75"
      },
      "outputs": [
        {
          "name": "stdout",
          "output_type": "stream",
          "text": [
            "tensor([[2., 2.],\n",
            "        [2., 2.],\n",
            "        [2., 2.]], device='cuda:0')\n"
          ]
        }
      ],
      "source": [
        "a = torch.ones(3, 2, device=cuda0)\n",
        "b = torch.ones(3, 2, device=cuda0)\n",
        "c = a + b\n",
        "print(c)"
      ]
    },
    {
      "cell_type": "code",
      "execution_count": 0,
      "metadata": {
        "colab": {},
        "colab_type": "code",
        "id": "Y9cFrUhbtPaw"
      },
      "outputs": [],
      "source": [
        "c = c.cpu()"
      ]
    },
    {
      "cell_type": "code",
      "execution_count": 96,
      "metadata": {
        "colab": {
          "base_uri": "https://localhost:8080/",
          "height": 70
        },
        "colab_type": "code",
        "id": "RxnPKqKOtRJa",
        "outputId": "9f8fb88b-eb99-4df2-baf5-932416be5374"
      },
      "outputs": [
        {
          "name": "stdout",
          "output_type": "stream",
          "text": [
            "tensor([[2., 2.],\n",
            "        [2., 2.],\n",
            "        [2., 2.]])\n"
          ]
        }
      ],
      "source": [
        "print(c)"
      ]
    },
    {
      "cell_type": "code",
      "execution_count": 97,
      "metadata": {
        "colab": {
          "base_uri": "https://localhost:8080/",
          "height": 70
        },
        "colab_type": "code",
        "id": "wSt3W1s-_Gc3",
        "outputId": "3fc17c54-3c81-468a-c7f6-830019f9822a"
      },
      "outputs": [
        {
          "name": "stdout",
          "output_type": "stream",
          "text": [
            "tensor([[1., 1.],\n",
            "        [1., 1.],\n",
            "        [1., 1.]], device='cuda:0')\n"
          ]
        }
      ],
      "source": [
        "print(a)"
      ]
    },
    {
      "cell_type": "markdown",
      "metadata": {
        "colab_type": "text",
        "id": "xzQRiaS9RG8m"
      },
      "source": [
        "# Speed Comparision Numpy vs Pytorch"
      ]
    },
    {
      "cell_type": "code",
      "execution_count": 98,
      "metadata": {
        "colab": {
          "base_uri": "https://localhost:8080/",
          "height": 52
        },
        "colab_type": "code",
        "id": "sVfOAU2EfTXB",
        "outputId": "d7d4d1c0-348a-4dbf-a495-44ab689b67b8"
      },
      "outputs": [
        {
          "name": "stdout",
          "output_type": "stream",
          "text": [
            "CPU times: user 1min 32s, sys: 153 ms, total: 1min 32s\n",
            "Wall time: 1min 32s\n"
          ]
        }
      ],
      "source": [
        "%%time\n",
        "for i in range(10):\n",
        "    a = np.random.randn(10000,10000)\n",
        "    b = np.random.randn(10000,10000)\n",
        "    np.add(b, a)"
      ]
    },
    {
      "cell_type": "code",
      "execution_count": 99,
      "metadata": {
        "colab": {
          "base_uri": "https://localhost:8080/",
          "height": 52
        },
        "colab_type": "code",
        "id": "G9GLUek5hCfn",
        "outputId": "c4d7184f-596c-459e-a9b9-91792c8d2065"
      },
      "outputs": [
        {
          "name": "stdout",
          "output_type": "stream",
          "text": [
            "CPU times: user 24.4 s, sys: 62 ms, total: 24.4 s\n",
            "Wall time: 24.4 s\n"
          ]
        }
      ],
      "source": [
        "%%time\n",
        "for i in range(10):\n",
        "    a_cpu = torch.randn([10000, 10000])\n",
        "    b_cpu = torch.randn([10000, 10000])\n",
        "    b_cpu.add_(a_cpu)"
      ]
    },
    {
      "cell_type": "code",
      "execution_count": 100,
      "metadata": {
        "colab": {
          "base_uri": "https://localhost:8080/",
          "height": 52
        },
        "colab_type": "code",
        "id": "FqSYioGrgyMI",
        "outputId": "da4b4373-56ba-4e3f-c3d9-cd479ea13ee8"
      },
      "outputs": [
        {
          "name": "stdout",
          "output_type": "stream",
          "text": [
            "CPU times: user 662 µs, sys: 13 ms, total: 13.7 ms\n",
            "Wall time: 15.2 ms\n"
          ]
        }
      ],
      "source": [
        "%%time\n",
        "for i in range(10):\n",
        "    a = torch.randn([10000, 10000], device=cuda0)\n",
        "    b = torch.randn([10000, 10000], device=cuda0)\n",
        "    b.add_(a)"
      ]
    },
    {
      "cell_type": "code",
      "execution_count": 101,
      "metadata": {
        "colab": {
          "base_uri": "https://localhost:8080/",
          "height": 52
        },
        "colab_type": "code",
        "id": "Kjsl8xRFjPtT",
        "outputId": "f9f6d544-9862-45db-a352-b2d118ffaa63"
      },
      "outputs": [
        {
          "name": "stdout",
          "output_type": "stream",
          "text": [
            "CPU times: user 24min 22s, sys: 14.4 s, total: 24min 37s\n",
            "Wall time: 13min 15s\n"
          ]
        }
      ],
      "source": [
        "%%time\n",
        "for i in range(10):\n",
        "    a = np.random.randn(10000,10000)\n",
        "    b = np.random.randn(10000,10000)\n",
        "    np.matmul(b, a)"
      ]
    },
    {
      "cell_type": "code",
      "execution_count": 102,
      "metadata": {
        "colab": {
          "base_uri": "https://localhost:8080/",
          "height": 52
        },
        "colab_type": "code",
        "id": "avFqbCgXjT3F",
        "outputId": "0a62fcf7-ee5a-49f2-bcd7-bea5246a6b22"
      },
      "outputs": [
        {
          "name": "stdout",
          "output_type": "stream",
          "text": [
            "CPU times: user 4min 51s, sys: 336 ms, total: 4min 51s\n",
            "Wall time: 4min 51s\n"
          ]
        }
      ],
      "source": [
        "%%time\n",
        "for i in range(10):\n",
        "    a_cpu = torch.randn([10000, 10000])\n",
        "    b_cpu = torch.randn([10000, 10000])\n",
        "    torch.matmul(a_cpu, b_cpu)"
      ]
    },
    {
      "cell_type": "code",
      "execution_count": 103,
      "metadata": {
        "colab": {
          "base_uri": "https://localhost:8080/",
          "height": 52
        },
        "colab_type": "code",
        "id": "hFfMhN2gjlZJ",
        "outputId": "82c636a6-9771-4251-eff1-56c3559f326c"
      },
      "outputs": [
        {
          "name": "stdout",
          "output_type": "stream",
          "text": [
            "CPU times: user 20.1 ms, sys: 28 ms, total: 48.1 ms\n",
            "Wall time: 53.7 ms\n"
          ]
        }
      ],
      "source": [
        "%%time\n",
        "for i in range(10):\n",
        "    a = torch.randn([10000, 10000], device=cuda0)\n",
        "    b = torch.randn([10000, 10000], device=cuda0)\n",
        "    torch.matmul(a, b)"
      ]
    },
    {
      "cell_type": "markdown",
      "metadata": {
        "colab_type": "text",
        "id": "P_6TU64Gi7jv"
      },
      "source": [
        "# Autodiff"
      ]
    },
    {
      "cell_type": "code",
      "execution_count": 104,
      "metadata": {
        "colab": {
          "base_uri": "https://localhost:8080/",
          "height": 70
        },
        "colab_type": "code",
        "id": "PjySsLMThEX7",
        "outputId": "c112b423-f09a-45fb-b4bf-58d1fc57ac97"
      },
      "outputs": [
        {
          "name": "stdout",
          "output_type": "stream",
          "text": [
            "tensor([[1., 1.],\n",
            "        [1., 1.],\n",
            "        [1., 1.]], requires_grad=True)\n"
          ]
        }
      ],
      "source": [
        "x = torch.ones([3,2], requires_grad = True)\n",
        "print(x)"
      ]
    },
    {
      "cell_type": "code",
      "execution_count": 105,
      "metadata": {
        "colab": {
          "base_uri": "https://localhost:8080/",
          "height": 70
        },
        "colab_type": "code",
        "id": "neb3oFWBjAtJ",
        "outputId": "fcc47ead-4160-43bb-f05f-88d73c84ef50"
      },
      "outputs": [
        {
          "name": "stdout",
          "output_type": "stream",
          "text": [
            "tensor([[6., 6.],\n",
            "        [6., 6.],\n",
            "        [6., 6.]], grad_fn=<AddBackward0>)\n"
          ]
        }
      ],
      "source": [
        "y = x + 5\n",
        "print(y)"
      ]
    },
    {
      "cell_type": "code",
      "execution_count": 106,
      "metadata": {
        "colab": {
          "base_uri": "https://localhost:8080/",
          "height": 70
        },
        "colab_type": "code",
        "id": "5M0pnstAjLa-",
        "outputId": "d02ce2e5-7261-4fda-ea9e-9c9436df16b3"
      },
      "outputs": [
        {
          "name": "stdout",
          "output_type": "stream",
          "text": [
            "tensor([[37., 37.],\n",
            "        [37., 37.],\n",
            "        [37., 37.]], grad_fn=<AddBackward0>)\n"
          ]
        }
      ],
      "source": [
        "z = y*y + 1\n",
        "print(z)"
      ]
    },
    {
      "cell_type": "code",
      "execution_count": 107,
      "metadata": {
        "colab": {
          "base_uri": "https://localhost:8080/",
          "height": 34
        },
        "colab_type": "code",
        "id": "wHHDSmiUkMOw",
        "outputId": "51e5c503-d8f1-4323-ea68-f04b6c124ff9"
      },
      "outputs": [
        {
          "name": "stdout",
          "output_type": "stream",
          "text": [
            "tensor(222., grad_fn=<SumBackward0>)\n"
          ]
        }
      ],
      "source": [
        "t = torch.sum(z)\n",
        "print(t)"
      ]
    },
    {
      "cell_type": "code",
      "execution_count": 0,
      "metadata": {
        "colab": {},
        "colab_type": "code",
        "id": "AXj896azkM_S"
      },
      "outputs": [],
      "source": [
        "t.backward()"
      ]
    },
    {
      "cell_type": "code",
      "execution_count": 109,
      "metadata": {
        "colab": {
          "base_uri": "https://localhost:8080/",
          "height": 70
        },
        "colab_type": "code",
        "id": "wSYAcNN1lAWS",
        "outputId": "f7318373-b83c-4394-d1df-1fe3407646e5"
      },
      "outputs": [
        {
          "name": "stdout",
          "output_type": "stream",
          "text": [
            "tensor([[12., 12.],\n",
            "        [12., 12.],\n",
            "        [12., 12.]])\n"
          ]
        }
      ],
      "source": [
        "print(x.grad)"
      ]
    },
    {
      "cell_type": "markdown",
      "metadata": {
        "colab_type": "text",
        "id": "6nrD44oJiEIY"
      },
      "source": [
        "# $t = \\sum_i z_i, z_i = y_i^2 + 1, y_i = x_i + 5$\n",
        "\n",
        "# $\\frac{\\partial t}{\\partial x_i} = \\frac{\\partial z_i}{\\partial x_i} = \\frac{\\partial z_i}{\\partial y_i} \\frac{\\partial y_i}{\\partial x_i} = 2y_i \\times 1$\n",
        "\n",
        "\n",
        "# At x = 1, y = 6, $\\frac{\\partial t}{\\partial x_i} = 12$"
      ]
    },
    {
      "cell_type": "markdown",
      "metadata": {
        "colab_type": "text",
        "id": "nMpwkWmiO3iN"
      },
      "source": [
        "## Second Example - Auto Diff"
      ]
    },
    {
      "cell_type": "code",
      "execution_count": 110,
      "metadata": {
        "colab": {
          "base_uri": "https://localhost:8080/",
          "height": 122
        },
        "colab_type": "code",
        "id": "ZFCWPPAP6ipv",
        "outputId": "efac8a30-bc3e-4b79-9bc1-06a272ce0017"
      },
      "outputs": [
        {
          "name": "stdout",
          "output_type": "stream",
          "text": [
            "tensor([[0.9975, 0.9975],\n",
            "        [0.9975, 0.9975],\n",
            "        [0.9975, 0.9975]], grad_fn=<MulBackward0>)\n",
            "tensor([[0.0025, 0.0025],\n",
            "        [0.0025, 0.0025],\n",
            "        [0.0025, 0.0025]])\n"
          ]
        }
      ],
      "source": [
        "#second example\n",
        "x = torch.ones([3, 2], requires_grad=True)\n",
        "y = x + 5\n",
        "r = 1/(1 + torch.exp(-y))\n",
        "print(r)\n",
        "s = torch.sum(r)\n",
        "s.backward()\n",
        "print(x.grad)"
      ]
    },
    {
      "cell_type": "code",
      "execution_count": 111,
      "metadata": {
        "colab": {
          "base_uri": "https://localhost:8080/",
          "height": 70
        },
        "colab_type": "code",
        "id": "Ts1wsONqlE5h",
        "outputId": "d1148534-84dd-4729-87fc-f5eb0032b5bb"
      },
      "outputs": [
        {
          "name": "stdout",
          "output_type": "stream",
          "text": [
            "tensor([[0.0025, 0.0025],\n",
            "        [0.0025, 0.0025],\n",
            "        [0.0025, 0.0025]])\n"
          ]
        }
      ],
      "source": [
        "x = torch.ones([3, 2], requires_grad=True)\n",
        "y = x + 5\n",
        "r = 1/(1 + torch.exp(-y))\n",
        "a = torch.ones([3, 2])\n",
        "r.backward(a)\n",
        "print(x.grad)"
      ]
    },
    {
      "cell_type": "markdown",
      "metadata": {
        "colab_type": "text",
        "id": "56AqY5hY77dx"
      },
      "source": [
        "$\\frac{\\partial{s}}{\\partial{x}} = \\frac{\\partial{s}}{\\partial{r}} \\cdot \\frac{\\partial{r}}{\\partial{x}}$\n",
        "\n",
        "For the above code $a$ represents $\\frac{\\partial{s}}{\\partial{r}}$ and then $x.grad$ gives directly $\\frac{\\partial{s}}{\\partial{x}}$\n",
        "\n"
      ]
    },
    {
      "cell_type": "markdown",
      "metadata": {
        "colab_type": "text",
        "id": "AKhxwdYUpUfj"
      },
      "source": [
        "# Autodiff example that looks like what we have been doing"
      ]
    },
    {
      "cell_type": "code",
      "execution_count": 0,
      "metadata": {
        "colab": {},
        "colab_type": "code",
        "id": "THNkQLR6mmpO"
      },
      "outputs": [],
      "source": [
        "x = torch.randn([20, 1], requires_grad=True)\n",
        "y = 3*x - 2"
      ]
    },
    {
      "cell_type": "code",
      "execution_count": 0,
      "metadata": {
        "colab": {},
        "colab_type": "code",
        "id": "-t4_8qgdnjDk"
      },
      "outputs": [],
      "source": [
        "w = torch.tensor([1.], requires_grad = True)\n",
        "b = torch.tensor([1.], requires_grad = True)\n",
        "y_hat = w * x + b\n",
        "loss = torch.sum((y_hat - y)**2)"
      ]
    },
    {
      "cell_type": "code",
      "execution_count": 114,
      "metadata": {
        "colab": {
          "base_uri": "https://localhost:8080/",
          "height": 34
        },
        "colab_type": "code",
        "id": "Gvpc37u-o6ob",
        "outputId": "a36a2e10-9735-42f3-eea5-1782147aaceb"
      },
      "outputs": [
        {
          "name": "stdout",
          "output_type": "stream",
          "text": [
            "tensor(230.5582, grad_fn=<SumBackward0>)\n"
          ]
        }
      ],
      "source": [
        "print(loss)"
      ]
    },
    {
      "cell_type": "code",
      "execution_count": 0,
      "metadata": {
        "colab": {},
        "colab_type": "code",
        "id": "-tnKq6DXo-RB"
      },
      "outputs": [],
      "source": [
        "loss.backward()"
      ]
    },
    {
      "cell_type": "code",
      "execution_count": 116,
      "metadata": {
        "colab": {
          "base_uri": "https://localhost:8080/",
          "height": 34
        },
        "colab_type": "code",
        "id": "I38qmZLhpM2F",
        "outputId": "0106acc9-8b36-4be3-8bb5-b79773c29d24"
      },
      "outputs": [
        {
          "name": "stdout",
          "output_type": "stream",
          "text": [
            "tensor([-59.6847]) tensor([113.9157])\n"
          ]
        }
      ],
      "source": [
        "print(w.grad, b.grad)"
      ]
    },
    {
      "cell_type": "markdown",
      "metadata": {
        "colab_type": "text",
        "id": "WfDV6saTq8XA"
      },
      "source": [
        "# Do it in a loop"
      ]
    },
    {
      "cell_type": "code",
      "execution_count": 117,
      "metadata": {
        "colab": {
          "base_uri": "https://localhost:8080/",
          "height": 210
        },
        "colab_type": "code",
        "id": "ivmJgJQTpN79",
        "outputId": "9c5fd799-b512-420f-906a-75493326065b"
      },
      "outputs": [
        {
          "name": "stdout",
          "output_type": "stream",
          "text": [
            "1.0 1.0\n",
            "1.8029184341430664 -0.2683265209197998\n",
            "2.6225297451019287 -1.0458576679229736\n",
            "2.8130393028259277 -1.419053316116333\n",
            "2.812117338180542 -1.6180460453033447\n",
            "2.9704225063323975 -1.8063768148422241\n",
            "2.974210023880005 -1.8826671838760376\n",
            "2.969771146774292 -1.9270395040512085\n",
            "2.9817845821380615 -1.956540584564209\n",
            "2.989637613296509 -1.9740781784057617\n",
            "2.9960341453552246 -1.9859132766723633\n"
          ]
        }
      ],
      "source": [
        "learning_rate = 0.01\n",
        "\n",
        "w = torch.tensor([1.], requires_grad=True)\n",
        "b = torch.tensor([1.], requires_grad=True)\n",
        "\n",
        "print(w.item(), b.item())\n",
        "\n",
        "for i in range(10):\n",
        "    x = torch.randn([20, 1])\n",
        "    y = 3*x - 2\n",
        "  \n",
        "    y_hat = w*x + b\n",
        "    loss = torch.sum((y_hat - y)**2)\n",
        "  \n",
        "    loss.backward()\n",
        "  \n",
        "    with torch.no_grad():\n",
        "        w -= learning_rate * w.grad\n",
        "        b -= learning_rate * b.grad\n",
        "    \n",
        "    w.grad.zero_()\n",
        "    b.grad.zero_()\n",
        "\n",
        "print(w.item(), b.item())  "
      ]
    },
    {
      "cell_type": "markdown",
      "metadata": {
        "colab_type": "text",
        "id": "vyOqrZZiuLkl"
      },
      "source": [
        "# Do it for a large problem"
      ]
    },
    {
      "cell_type": "code",
      "execution_count": 119,
      "metadata": {
        "colab": {
          "base_uri": "https://localhost:8080/",
          "height": 70
        },
        "colab_type": "code",
        "id": "owaeEn4A01zF",
        "outputId": "ed5bc314-5380-4e3f-9e54-2870cdd3d430"
      },
      "outputs": [
        {
          "name": "stdout",
          "output_type": "stream",
          "text": [
            "nan nan\n",
            "CPU times: user 891 ms, sys: 623 ms, total: 1.51 s\n",
            "Wall time: 1.54 s\n"
          ]
        }
      ],
      "source": [
        "%%time\n",
        "learning_rate = 0.001\n",
        "N = 10000000\n",
        "epochs = 200\n",
        "\n",
        "w = torch.rand([N], requires_grad=True, device=cuda0)\n",
        "b = torch.ones([1], requires_grad=True, device=cuda0)\n",
        "\n",
        "# print(torch.mean(w).item(), b.item())\n",
        "\n",
        "for i in range(epochs):  \n",
        "    x = torch.randn([N], device=cuda0)\n",
        "    y = torch.dot(3*torch.ones([N], device=cuda0), x) - 2\n",
        "  \n",
        "    y_hat = torch.dot(w, x) + b\n",
        "    loss = torch.sum((y_hat - y)**2)\n",
        "  \n",
        "    loss.backward()\n",
        "  \n",
        "    with torch.no_grad():\n",
        "        w -= learning_rate * w.grad\n",
        "        b -= learning_rate * b.grad\n",
        "    \n",
        "    w.grad.zero_()\n",
        "    b.grad.zero_()\n",
        "\n",
        "print(torch.mean(w).item(), b.item())  "
      ]
    },
    {
      "cell_type": "markdown",
      "metadata": {
        "colab_type": "text",
        "id": "26DKUSDcVX7f"
      },
      "source": [
        "# Conclusion\n",
        "* In this notebook, we briefly looked at the Pytorch & Google Colab and we also saw how to enable GPU hardware accelerator in Colab.\n",
        "* Then we have seen how to create tensors in Pytorch and perform some basic operations on those tensors by utilizing CUDA supported GPU. \n",
        "* After that, we discussed the Pytorch autograd package which gives us the ability to perform automatic gradient computation on tensors by taking a simple example."
      ]
    },
    {
      "cell_type": "code",
      "execution_count": 0,
      "metadata": {
        "colab": {},
        "colab_type": "code",
        "id": "4TmBA3VO9Jva"
      },
      "outputs": [],
      "source": []
    }
  ],
  "metadata": {
    "accelerator": "GPU",
    "colab": {
      "collapsed_sections": [],
      "name": "PytorchIntro.ipynb",
      "provenance": [],
      "version": "0.3.2"
    },
    "kernelspec": {
      "display_name": "Python 3",
      "name": "python3"
    }
  },
  "nbformat": 4,
  "nbformat_minor": 0
}
